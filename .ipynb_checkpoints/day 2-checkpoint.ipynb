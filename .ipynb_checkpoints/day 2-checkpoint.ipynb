{
 "cells": [
  {
   "cell_type": "markdown",
   "metadata": {},
   "source": [
    "# History of Python\n",
    "\n",
    "## Monty `python` fly circus\n",
    "\n",
    "* In 1989 started Implementation of python with version 0.9\n",
    "* In 1991 Implimented 0.9 version \n",
    "* In 1994 Implimented 1.0 version with features of lambda,map,filter,reduce\n",
    "* In 2000 Implimented 2.0 version with features of datastructures like lists,tuple,Dictionary,Sets...etc\n",
    "* In 2008 Republished 3.0 version with features large no of libraries garbagecollection and fastworking Updating\n",
    "# Features of Python\n",
    "* Easy to learn & Easy to Write\n",
    "* cross paltform\n",
    "* Scalable\n",
    "* Portable\n",
    "* Versatile\n",
    "* \n"
   ]
  },
  {
   "cell_type": "code",
   "execution_count": null,
   "metadata": {},
   "outputs": [],
   "source": [
    "eg:for var in range(10) in python\n",
    "    % for i in range(10)%} in html"
   ]
  },
  {
   "cell_type": "markdown",
   "metadata": {},
   "source": [
    "Comparing versions\n",
    "First version and second version print statement is\n",
    "print a+b\n",
    "by using input method\n",
    "raw_input()\n",
    "in 3rd version\n",
    "print(a+b)\n",
    "input()"
   ]
  },
  {
   "cell_type": "code",
   "execution_count": null,
   "metadata": {
    "scrolled": true
   },
   "outputs": [],
   "source": [
    "# keywords or reserved words in python\n",
    "import keyword\n",
    "\n",
    "dir(keyword)\n",
    "keyword.kwlist"
   ]
  },
  {
   "cell_type": "code",
   "execution_count": null,
   "metadata": {},
   "outputs": [],
   "source": [
    "In generators we use yeild keyword\n",
    "In iterators we use iter builtin function"
   ]
  },
  {
   "cell_type": "code",
   "execution_count": null,
   "metadata": {},
   "outputs": [],
   "source": [
    "help()"
   ]
  },
  {
   "cell_type": "markdown",
   "metadata": {},
   "source": [
    "# operators\n",
    "* arthmetic operators(+,-,*,/,%,//,**)\n",
    "* Relational operators(<,>,<=,>=,==,!=)\n",
    "* Assignment operators(+=,-=,*=,/=,**=,//=)\n",
    "* Loical operators(and,or,not)\n",
    "* Bitwise operators(&,|,^,>>,<<)\n",
    "* Membership operators(in,not in)\n",
    "* Identify operators(is,not is)"
   ]
  },
  {
   "cell_type": "code",
   "execution_count": null,
   "metadata": {},
   "outputs": [],
   "source": [
    "a=10\n",
    "b=30\n",
    "print(a+b)\n",
    "print(a-b)\n",
    "print(a/b)\n",
    "print(a*b)\n",
    "print(a%b)\n",
    "print(a//b)\n",
    "print(a**b)"
   ]
  },
  {
   "cell_type": "code",
   "execution_count": null,
   "metadata": {},
   "outputs": [],
   "source": [
    "a=int(input(\"Enter first number: \"))\n",
    "b=int(input(\"Enter second number: \"))\n",
    "print(a+b)\n",
    "print(a-b)\n",
    "print(a/b)\n",
    "print(a*b)\n",
    "print(a%b)\n",
    "print(a//b)\n",
    "print(a**b)"
   ]
  },
  {
   "cell_type": "code",
   "execution_count": null,
   "metadata": {},
   "outputs": [],
   "source": [
    "# Relational operators\n",
    "a,b=10,20\n",
    "print(a<b)\n",
    "print(a>b)\n",
    "print(a==b)\n",
    "print(a!=b)"
   ]
  },
  {
   "cell_type": "code",
   "execution_count": null,
   "metadata": {},
   "outputs": [],
   "source": [
    "# Assignment operators\n",
    "a=int(input(\"Enter a number: \"))\n",
    "a+=20\n",
    "print(a)"
   ]
  },
  {
   "cell_type": "code",
   "execution_count": null,
   "metadata": {},
   "outputs": [],
   "source": [
    "#logical operators\n",
    "#And\n",
    "a=10\n",
    "b=20\n",
    "print(False and False)\n",
    "print(True and False)\n",
    "print(False and True)\n",
    "print(True and True)"
   ]
  },
  {
   "cell_type": "code",
   "execution_count": null,
   "metadata": {},
   "outputs": [],
   "source": [
    "#or\n",
    "a=20\n",
    "b=30\n",
    "print(False or False)\n",
    "print(True or False)\n",
    "print(False or True)\n",
    "print(True or True)"
   ]
  },
  {
   "cell_type": "code",
   "execution_count": null,
   "metadata": {},
   "outputs": [],
   "source": [
    "#not-or condition\n",
    "a=20\n",
    "b=30\n",
    "print(not(False or False))\n",
    "print(not(True or False))\n",
    "print(not(False or True))\n",
    "print(not(True or True))"
   ]
  },
  {
   "cell_type": "code",
   "execution_count": null,
   "metadata": {},
   "outputs": [],
   "source": [
    "a,b,c=10,20,30\n",
    "a>b and b>c and c>a"
   ]
  },
  {
   "cell_type": "code",
   "execution_count": null,
   "metadata": {},
   "outputs": [],
   "source": [
    "bin(100)"
   ]
  },
  {
   "cell_type": "code",
   "execution_count": null,
   "metadata": {},
   "outputs": [],
   "source": [
    "int(\"0110\",2)"
   ]
  },
  {
   "cell_type": "code",
   "execution_count": null,
   "metadata": {},
   "outputs": [],
   "source": [
    "a=1010\n",
    "b=111\n",
    "print(a|b)\n",
    "bin(17)"
   ]
  },
  {
   "cell_type": "code",
   "execution_count": null,
   "metadata": {},
   "outputs": [],
   "source": [
    "ord('a')"
   ]
  },
  {
   "cell_type": "code",
   "execution_count": null,
   "metadata": {},
   "outputs": [],
   "source": [
    "chr(97)"
   ]
  },
  {
   "cell_type": "code",
   "execution_count": null,
   "metadata": {},
   "outputs": [],
   "source": [
    "#membership operators\n",
    "b=(\"I am a good girl\")\n",
    "print(\"am\" in b)\n",
    "print(\"a\" not in b)"
   ]
  },
  {
   "cell_type": "code",
   "execution_count": null,
   "metadata": {},
   "outputs": [],
   "source": [
    "a=10\n",
    "b=100\n",
    "print(\"addition of a and b:\",a+b)"
   ]
  },
  {
   "cell_type": "code",
   "execution_count": null,
   "metadata": {},
   "outputs": [],
   "source": [
    "a,b=10,100\n",
    "print(\"Addition of two numbers:\",(a+b))"
   ]
  },
  {
   "cell_type": "code",
   "execution_count": null,
   "metadata": {},
   "outputs": [],
   "source": [
    "a,b=10,100\n",
    "c=a+b\n",
    "print(int(a)+int(b))"
   ]
  },
  {
   "cell_type": "code",
   "execution_count": null,
   "metadata": {},
   "outputs": [],
   "source": [
    "a,b=10,100\n",
    "print(\"addition of\",a,'+',b,'=',a+b)"
   ]
  },
  {
   "cell_type": "code",
   "execution_count": null,
   "metadata": {},
   "outputs": [],
   "source": [
    "print('sub of %d-%d=%d'%(a,b,a-b))"
   ]
  },
  {
   "cell_type": "code",
   "execution_count": null,
   "metadata": {},
   "outputs": [],
   "source": [
    "print('mul of {0} * {1} = {2}'.format(a,b,a*b))"
   ]
  },
  {
   "cell_type": "code",
   "execution_count": null,
   "metadata": {},
   "outputs": [],
   "source": [
    "#dynamic values\n",
    "x=int(input(\"Enter the x value: \"))\n",
    "y=int(input(\"Enter the y value:\"))\n",
    "print('addition of {0} + {1} = {2}'.format(x,y,x+y))"
   ]
  },
  {
   "cell_type": "markdown",
   "metadata": {},
   "source": [
    "# Expression\n",
    "1. Take 5 inputs from user\n",
    "2. To perform operation\n",
    "3. store result in variable\n",
    "4. print the final result"
   ]
  },
  {
   "cell_type": "code",
   "execution_count": null,
   "metadata": {},
   "outputs": [],
   "source": [
    "a=int(input(\"Enter the a value: \"))\n",
    "b=int(input(\"Enter the b value:\"))\n",
    "c=int(input(\"Enter the c value: \"))\n",
    "d=int(input(\"Enter the d value:\"))\n",
    "e=int(input(\"Enter the e value: \"))\n",
    "f=a+b-c**d//e\n",
    "print(f)"
   ]
  },
  {
   "cell_type": "markdown",
   "metadata": {},
   "source": [
    "# comments in python\n",
    "1. single line comment\n"
   ]
  },
  {
   "cell_type": "markdown",
   "metadata": {},
   "source": [
    "# conditional statements\n",
    "* if\n",
    "* else\n",
    "*elif\n",
    "#syntax\n",
    "if condition;\n",
    "    statements\n",
    "elif condition;\n",
    "    statements\n",
    "else condition;\n",
    "    statements"
   ]
  },
  {
   "cell_type": "code",
   "execution_count": null,
   "metadata": {},
   "outputs": [],
   "source": [
    "#print even numbers\n",
    "n1=int(input('Enter the value'))\n",
    "if(n1%2==0):\n",
    "    print(n1,'is even number')\n",
    "else:\n",
    "    print(n1,'is odd number')\n",
    "    "
   ]
  },
  {
   "cell_type": "code",
   "execution_count": null,
   "metadata": {},
   "outputs": [],
   "source": [
    "n2=int(input('Enter the value'))\n",
    "if(n2%2!=0): #n2%2==1:\n",
    "    print(n2,'is even number')\n",
    "else:\n",
    "    print(n2,'is odd number')\n",
    "    \n",
    "    "
   ]
  },
  {
   "cell_type": "markdown",
   "metadata": {},
   "source": [
    "# write a program to print days\n",
    "*User take 0-7 numbers\n",
    "*0 is sunday\n",
    "*7 is saturday\n",
    "*User can give 7 above --> print(invalid day)\n",
    "# Take 2 inputs from user\n",
    "*one is username\n",
    "*password\n",
    "*Both condition True\n",
    "*print welcome current username\n",
    "*Otherwise invalid username or password\n",
    "# Write a program to print user given the values\n",
    "*User can give thea-z or A_Z--> print Alphabet\n",
    "*User can give 0-9--> print digit\n",
    "*user can give @,#,$,%,^,()-->Special symbol"
   ]
  },
  {
   "cell_type": "code",
   "execution_count": null,
   "metadata": {},
   "outputs": [],
   "source": [
    "Day=int(input(\"Enter a day in a week: \"))\n",
    "if (Day==0):\n",
    "    print(\"Sunday\")\n",
    "elif (Day==1):\n",
    "    print(\"Monday\")\n",
    "elif (Day == 2):\n",
    "    print(\"Tuesday\")\n",
    "elif (Day == 4):\n",
    "    print(\"Wednesday\")\n",
    "elif(Day==5):\n",
    "    print(\"Thursday\")\n",
    "elif(Day==6):\n",
    "    print(\"Friday\")\n",
    "elif (Day==7):\n",
    "    print(\"Saturday\")\n",
    "else :\n",
    "    print(\"Invalid Day\")"
   ]
  },
  {
   "cell_type": "code",
   "execution_count": 3,
   "metadata": {},
   "outputs": [
    {
     "name": "stdout",
     "output_type": "stream",
     "text": [
      "Welcome correct username and password\n"
     ]
    }
   ],
   "source": [
    "username=str('likky')\n",
    "password=1709\n",
    "if (username =='likky' and password == 1709):\n",
    "    print(\"Welcome correct username and password\")\n",
    "else:\n",
    "    print(\"Invalid username or password\")\n",
    "    \n"
   ]
  },
  {
   "cell_type": "code",
   "execution_count": 6,
   "metadata": {
    "scrolled": false
   },
   "outputs": [
    {
     "name": "stdout",
     "output_type": "stream",
     "text": [
      "Enter a character: l\n",
      "alphabetl is  108\n",
      "Enter a number: 7\n",
      "digit7 is  55\n",
      "Enter a symbol: &\n",
      "special symbol is  38\n"
     ]
    }
   ],
   "source": [
    "alpha= input(\"Enter a character: \")  \n",
    "print(\"alphabet\" + alpha + \" is \",ord(alpha))\n",
    "num=input(\"Enter a number: \")\n",
    "print(\"digit\" + num + \" is \",ord(num))\n",
    "spl=input(\"Enter a symbol: \")\n",
    "print(\"special symbol\" + \" is \",ord(spl))\n"
   ]
  },
  {
   "cell_type": "code",
   "execution_count": null,
   "metadata": {},
   "outputs": [],
   "source": []
  },
  {
   "cell_type": "code",
   "execution_count": null,
   "metadata": {},
   "outputs": [],
   "source": []
  }
 ],
 "metadata": {
  "kernelspec": {
   "display_name": "Python 3",
   "language": "python",
   "name": "python3"
  },
  "language_info": {
   "codemirror_mode": {
    "name": "ipython",
    "version": 3
   },
   "file_extension": ".py",
   "mimetype": "text/x-python",
   "name": "python",
   "nbconvert_exporter": "python",
   "pygments_lexer": "ipython3",
   "version": "3.8.5"
  }
 },
 "nbformat": 4,
 "nbformat_minor": 4
}
